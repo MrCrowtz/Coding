{
 "cells": [
  {
   "cell_type": "markdown",
   "metadata": {},
   "source": [
    "PokeAPI pokemon types and prefered attributes on generations 1-2"
   ]
  },
  {
   "cell_type": "markdown",
   "metadata": {},
   "source": [
    "at first we will set all the libraries and variables used along"
   ]
  },
  {
   "cell_type": "code",
   "execution_count": 31,
   "metadata": {},
   "outputs": [],
   "source": [
    "import requests, json, pandas as pd, matplotlib as plt, seaborn as sb"
   ]
  },
  {
   "cell_type": "code",
   "execution_count": 32,
   "metadata": {},
   "outputs": [],
   "source": [
    "#base url for usage in functions\n",
    "base_url = 'https://pokeapi.co/api/v2/'\n",
    "#library of pokemon info\n",
    "pokemon_info = {'Name': [], 'Types': [], 'Attribute': [], 'IV': []}"
   ]
  },
  {
   "cell_type": "code",
   "execution_count": 33,
   "metadata": {},
   "outputs": [],
   "source": [
    "#function to gather pokemon per gen(made to also get other gens)\n",
    "def catch_pokemon_gen(n):\n",
    "    url = 'https://pokeapi.co/api/v2/generation/{}'.format(n)\n",
    "    p = requests.get(url)\n",
    "    info = p.json()\n",
    "    poke_list = []\n",
    "\n",
    "    for pokemon in info['pokemon_species']:\n",
    "        name = pokemon['name']\n",
    "        poke_list.append(name)\n",
    "\n",
    "    return poke_list\n",
    "gen1 = catch_pokemon_gen(1)\n",
    "gen2 = catch_pokemon_gen(2)"
   ]
  },
  {
   "cell_type": "code",
   "execution_count": 34,
   "metadata": {},
   "outputs": [],
   "source": [
    "#function to gather pokemon types\n",
    "def catch_pokemon_type(name):\n",
    "    url = base_url + 'pokemon/' + name\n",
    "    p = requests.get(url)\n",
    "    info = p.json()\n",
    "    types = [type['type']['name'] for type in info['types']]\n",
    "    return types"
   ]
  },
  {
   "cell_type": "code",
   "execution_count": 35,
   "metadata": {},
   "outputs": [],
   "source": [
    "#function to gather pokemon info on its attributes\n",
    "def catch_pokemon_iv(name):\n",
    "    url = base_url + 'pokemon/' + name\n",
    "    p = requests.get(url)\n",
    "    info = p.json()\n",
    "    attributes = ['hp', 'attack', 'defense', 'special-attack', 'special-defense', 'speed']\n",
    "    highest_attribute = attributes[0]\n",
    "    highest_attribute_iv = 0\n",
    "\n",
    "    for i in range(len(attributes)):\n",
    "        iv_value = info['stats'][i]['base_stat']\n",
    "\n",
    "        if iv_value > highest_attribute_iv:\n",
    "            highest_attribute_iv = iv_value\n",
    "            highest_attribute = attributes[i]\n",
    "\n",
    "    return highest_attribute, highest_attribute_iv"
   ]
  },
  {
   "cell_type": "code",
   "execution_count": 36,
   "metadata": {},
   "outputs": [],
   "source": [
    "def catch_all_info(list):\n",
    "    for pokemon in list:\n",
    "        types = catch_pokemon_type(pokemon)\n",
    "        attribute, iv = catch_pokemon_iv(pokemon)\n",
    "        pokemon_info['Name'].append(pokemon)\n",
    "        pokemon_info['Types'].append(types)\n",
    "        pokemon_info['Attribute'].append(attribute)\n",
    "        pokemon_info['IV'].append(iv)\n",
    "    return pokemon_info"
   ]
  },
  {
   "cell_type": "code",
   "execution_count": 37,
   "metadata": {},
   "outputs": [],
   "source": [
    "gen1_info = catch_all_info(gen1)\n",
    "gen2_info = catch_all_info(gen2)"
   ]
  },
  {
   "cell_type": "code",
   "execution_count": 38,
   "metadata": {},
   "outputs": [],
   "source": [
    "gen1df = pd.DataFrame(gen1_info)\n",
    "gen1df.index += 1\n",
    "gen2df = pd.DataFrame(gen2_info)\n",
    "gen2df.index += 1"
   ]
  },
  {
   "cell_type": "code",
   "execution_count": 39,
   "metadata": {},
   "outputs": [
    {
     "data": {
      "text/html": [
       "<div>\n",
       "<style scoped>\n",
       "    .dataframe tbody tr th:only-of-type {\n",
       "        vertical-align: middle;\n",
       "    }\n",
       "\n",
       "    .dataframe tbody tr th {\n",
       "        vertical-align: top;\n",
       "    }\n",
       "\n",
       "    .dataframe thead th {\n",
       "        text-align: right;\n",
       "    }\n",
       "</style>\n",
       "<table border=\"1\" class=\"dataframe\">\n",
       "  <thead>\n",
       "    <tr style=\"text-align: right;\">\n",
       "      <th></th>\n",
       "      <th>Name</th>\n",
       "      <th>Types</th>\n",
       "      <th>Attribute</th>\n",
       "      <th>IV</th>\n",
       "    </tr>\n",
       "  </thead>\n",
       "  <tbody>\n",
       "    <tr>\n",
       "      <th>1</th>\n",
       "      <td>bulbasaur</td>\n",
       "      <td>[grass, poison]</td>\n",
       "      <td>special-attack</td>\n",
       "      <td>65</td>\n",
       "    </tr>\n",
       "    <tr>\n",
       "      <th>2</th>\n",
       "      <td>charmander</td>\n",
       "      <td>[fire]</td>\n",
       "      <td>speed</td>\n",
       "      <td>65</td>\n",
       "    </tr>\n",
       "    <tr>\n",
       "      <th>3</th>\n",
       "      <td>squirtle</td>\n",
       "      <td>[water]</td>\n",
       "      <td>defense</td>\n",
       "      <td>65</td>\n",
       "    </tr>\n",
       "    <tr>\n",
       "      <th>4</th>\n",
       "      <td>caterpie</td>\n",
       "      <td>[bug]</td>\n",
       "      <td>hp</td>\n",
       "      <td>45</td>\n",
       "    </tr>\n",
       "    <tr>\n",
       "      <th>5</th>\n",
       "      <td>weedle</td>\n",
       "      <td>[bug, poison]</td>\n",
       "      <td>speed</td>\n",
       "      <td>50</td>\n",
       "    </tr>\n",
       "    <tr>\n",
       "      <th>...</th>\n",
       "      <td>...</td>\n",
       "      <td>...</td>\n",
       "      <td>...</td>\n",
       "      <td>...</td>\n",
       "    </tr>\n",
       "    <tr>\n",
       "      <th>247</th>\n",
       "      <td>blissey</td>\n",
       "      <td>[normal]</td>\n",
       "      <td>hp</td>\n",
       "      <td>255</td>\n",
       "    </tr>\n",
       "    <tr>\n",
       "      <th>248</th>\n",
       "      <td>pupitar</td>\n",
       "      <td>[rock, ground]</td>\n",
       "      <td>attack</td>\n",
       "      <td>84</td>\n",
       "    </tr>\n",
       "    <tr>\n",
       "      <th>249</th>\n",
       "      <td>tyranitar</td>\n",
       "      <td>[rock, dark]</td>\n",
       "      <td>attack</td>\n",
       "      <td>134</td>\n",
       "    </tr>\n",
       "    <tr>\n",
       "      <th>250</th>\n",
       "      <td>bayleef</td>\n",
       "      <td>[grass]</td>\n",
       "      <td>defense</td>\n",
       "      <td>80</td>\n",
       "    </tr>\n",
       "    <tr>\n",
       "      <th>251</th>\n",
       "      <td>mantine</td>\n",
       "      <td>[water, flying]</td>\n",
       "      <td>special-defense</td>\n",
       "      <td>140</td>\n",
       "    </tr>\n",
       "  </tbody>\n",
       "</table>\n",
       "<p>502 rows × 4 columns</p>\n",
       "</div>"
      ],
      "text/plain": [
       "           Name            Types        Attribute   IV\n",
       "1     bulbasaur  [grass, poison]   special-attack   65\n",
       "2    charmander           [fire]            speed   65\n",
       "3      squirtle          [water]          defense   65\n",
       "4      caterpie            [bug]               hp   45\n",
       "5        weedle    [bug, poison]            speed   50\n",
       "..          ...              ...              ...  ...\n",
       "247     blissey         [normal]               hp  255\n",
       "248     pupitar   [rock, ground]           attack   84\n",
       "249   tyranitar     [rock, dark]           attack  134\n",
       "250     bayleef          [grass]          defense   80\n",
       "251     mantine  [water, flying]  special-defense  140\n",
       "\n",
       "[502 rows x 4 columns]"
      ]
     },
     "execution_count": 39,
     "metadata": {},
     "output_type": "execute_result"
    }
   ],
   "source": [
    "total = [gen1df, gen2df]\n",
    "totaldf = pd.concat(total)\n",
    "totaldf"
   ]
  },
  {
   "cell_type": "code",
   "execution_count": 40,
   "metadata": {},
   "outputs": [],
   "source": [
    "total_types = totaldf['Types'].str[0]\n",
    "total_types = total_types.value_counts()\n",
    "types_df = pd.DataFrame(total_types)"
   ]
  }
 ],
 "metadata": {
  "kernelspec": {
   "display_name": "Python 3",
   "language": "python",
   "name": "python3"
  },
  "language_info": {
   "codemirror_mode": {
    "name": "ipython",
    "version": 3
   },
   "file_extension": ".py",
   "mimetype": "text/x-python",
   "name": "python",
   "nbconvert_exporter": "python",
   "pygments_lexer": "ipython3",
   "version": "3.11.2"
  }
 },
 "nbformat": 4,
 "nbformat_minor": 2
}
